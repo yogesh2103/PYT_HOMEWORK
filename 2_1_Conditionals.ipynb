{
 "cells": [
  {
   "cell_type": "code",
   "execution_count": 1,
   "id": "cebd4f0d",
   "metadata": {},
   "outputs": [
    {
     "name": "stdout",
     "output_type": "stream",
     "text": [
      "Morning is wonderful. Its only drawback is that it comes at such an inconvenient time of day.\n"
     ]
    }
   ],
   "source": [
    "#Problem 1: Most Clocks Are Normal, But Some Are Cuckoo!\n",
    "time = 8\n",
    "\n",
    "if time < 9:\n",
    "    print(\"Morning is wonderful. Its only drawback is that it comes at such an inconvenient time of day.\")\n",
    "elif time <= 16:\n",
    "    print(\"Working hard or hardly working?\")\n",
    "elif time < 20:\n",
    "    print (\"How did it get so late so soon?\")\n",
    "elif time < 22: \n",
    "    print (\"A day without sunshine is like, you know, night.\")\n",
    "else:\n",
    "    print (\"Burning the midnight\")\n"
   ]
  },
  {
   "cell_type": "code",
   "execution_count": 2,
   "id": "7ff074ff",
   "metadata": {},
   "outputs": [
    {
     "name": "stdout",
     "output_type": "stream",
     "text": [
      "T-Rex will fight with the Velociraptor\n"
     ]
    }
   ],
   "source": [
    "#Problem 2: I Came, I 'Saur, I Conquered\n",
    "\n",
    "angry = True\n",
    "bored = True\n",
    "hungry = False\n",
    "tired = False\n",
    "\n",
    "if angry and hungry and bored:\n",
    "    print('T-Rex will eat the Triceratops')\n",
    "elif tired and hungry:\n",
    "    print('T-Rex will eat the Iguanadon')\n",
    "elif hungry and bored:\n",
    "    print('T-Rex will eat the Stegasaurus')\n",
    "elif tired:\n",
    "    print('T-Rex goes to sleep')\n",
    "elif angry and bored:\n",
    "    print('T-Rex will fight with the Velociraptor')\n",
    "elif angry or bored:\n",
    "    print('T-Rex roars')\n",
    "else:\n",
    "    print('T-Rex gives a toothy smile')"
   ]
  },
  {
   "cell_type": "code",
   "execution_count": null,
   "id": "fe29153d",
   "metadata": {},
   "outputs": [],
   "source": []
  }
 ],
 "metadata": {
  "kernelspec": {
   "display_name": "Python 3 (ipykernel)",
   "language": "python",
   "name": "python3"
  },
  "language_info": {
   "codemirror_mode": {
    "name": "ipython",
    "version": 3
   },
   "file_extension": ".py",
   "mimetype": "text/x-python",
   "name": "python",
   "nbconvert_exporter": "python",
   "pygments_lexer": "ipython3",
   "version": "3.9.12"
  }
 },
 "nbformat": 4,
 "nbformat_minor": 5
}
