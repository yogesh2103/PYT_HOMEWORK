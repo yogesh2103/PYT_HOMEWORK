{
 "cells": [
  {
   "cell_type": "code",
   "execution_count": null,
   "id": "a38f5ec8",
   "metadata": {},
   "outputs": [],
   "source": [
    "import pandas as pd\n",
    "import numpy as np\n",
    "import datetime\n",
    "import random\n",
    "%matplotlib inline\n",
    "import matplotlib.pyplot as plt"
   ]
  },
  {
   "cell_type": "code",
   "execution_count": null,
   "id": "abc2f60e",
   "metadata": {},
   "outputs": [],
   "source": [
    "#Load data from excel file\n",
    "prod = pd.read_excel('../data/HotelReservations.xlsx',sheet_name='Reservations')"
   ]
  },
  {
   "cell_type": "code",
   "execution_count": null,
   "id": "74bfcf98",
   "metadata": {},
   "outputs": [],
   "source": [
    "#Print prod type\n",
    "type(prod)"
   ]
  },
  {
   "cell_type": "code",
   "execution_count": null,
   "id": "9ac96f01",
   "metadata": {},
   "outputs": [],
   "source": [
    "#Print row x column\n",
    "prod.shape"
   ]
  },
  {
   "cell_type": "code",
   "execution_count": null,
   "id": "70ec67c4",
   "metadata": {},
   "outputs": [],
   "source": [
    "#Assign pd to df\n",
    "df = pd.DataFrame(prod)"
   ]
  },
  {
   "cell_type": "code",
   "execution_count": null,
   "id": "0bdd9dca",
   "metadata": {},
   "outputs": [],
   "source": [
    "#Print data type of column\n",
    "df.info()\n",
    "pd.DataFrame(prod.dtypes, columns=['DataType'])"
   ]
  },
  {
   "cell_type": "code",
   "execution_count": null,
   "id": "ede3beb5",
   "metadata": {},
   "outputs": [],
   "source": [
    "#Find for missing data\n",
    "prod.isnull().sum()"
   ]
  },
  {
   "cell_type": "code",
   "execution_count": null,
   "id": "605531e3",
   "metadata": {},
   "outputs": [],
   "source": [
    "#print sample data\n",
    "prod.head(3)"
   ]
  },
  {
   "cell_type": "code",
   "execution_count": null,
   "id": "0f1470cc",
   "metadata": {},
   "outputs": [],
   "source": [
    "#Sort the df by year, month, date\n",
    "Sort = df.sort_values(by=['arrival_year','arrival_month','arrival_date'])"
   ]
  },
  {
   "cell_type": "code",
   "execution_count": null,
   "id": "97c60f53",
   "metadata": {},
   "outputs": [],
   "source": [
    "#Print head, mid & tail to check on first, middle & last record \n",
    "start = 1\n",
    "mid = df.shape[0]//2\n",
    "mid_end = mid + 1\n",
    "end = 1\n",
    "pd.concat([df[:start], df[mid:mid_end], df[-end:]])"
   ]
  },
  {
   "cell_type": "code",
   "execution_count": null,
   "id": "0cfe13ac",
   "metadata": {},
   "outputs": [],
   "source": [
    "#Reset the index to unique id\n",
    "prod.set_index('Booking_ID', inplace=True)"
   ]
  },
  {
   "cell_type": "code",
   "execution_count": null,
   "id": "566c1f45",
   "metadata": {},
   "outputs": [],
   "source": [
    "#print index id\n",
    "print(prod.index.name)"
   ]
  },
  {
   "cell_type": "code",
   "execution_count": null,
   "id": "d62b25ad",
   "metadata": {},
   "outputs": [],
   "source": [
    "prod.index"
   ]
  },
  {
   "cell_type": "code",
   "execution_count": null,
   "id": "a649a66e",
   "metadata": {},
   "outputs": [],
   "source": [
    "#sample data aft change index\n",
    "prod.head(3)"
   ]
  },
  {
   "cell_type": "code",
   "execution_count": null,
   "id": "26dfd162",
   "metadata": {},
   "outputs": [],
   "source": [
    "#Data cleanup\n",
    "#Create new field combine year, month & date\n",
    "df = pd.DataFrame(prod)\n",
    "df['ArrivalDate'] = pd.to_datetime(dict(year=df.arrival_year, month=df.arrival_month, day=df.arrival_date), format='%Y%m%d', errors='coerce')\n",
    "print (df['ArrivalDate'].dtypes)\n"
   ]
  },
  {
   "cell_type": "code",
   "execution_count": null,
   "id": "72b801b4",
   "metadata": {},
   "outputs": [],
   "source": [
    "#Data cleanup\n",
    "#Create new field number of days\n",
    "df['TotalDays'] = df.no_of_weekend_nights + df.no_of_week_nights\n",
    "print (df['TotalDays'].dtypes)"
   ]
  },
  {
   "cell_type": "code",
   "execution_count": null,
   "id": "9d576364",
   "metadata": {},
   "outputs": [],
   "source": [
    "#Data cleanup\n",
    "#Create new field departure date\n",
    "df['DepartureDate'] = df['ArrivalDate'] + pd.to_timedelta(df['TotalDays'], unit='D')\n",
    "print (df['DepartureDate'].dtypes)"
   ]
  },
  {
   "cell_type": "code",
   "execution_count": null,
   "id": "4d71bfa3",
   "metadata": {},
   "outputs": [],
   "source": [
    "#Data cleanup\n",
    "#Create new field booking date\n",
    "df['BookingDate'] = df['ArrivalDate'] - pd.to_timedelta(df['lead_time'], unit='D')\n",
    "print (df['BookingDate'].dtypes)"
   ]
  },
  {
   "cell_type": "code",
   "execution_count": null,
   "id": "9c4d745a",
   "metadata": {},
   "outputs": [],
   "source": [
    "#Data cleanup\n",
    "#Create list of state in Malaysia \n",
    "State_List = ['Johor','Kedah','Kelantan','Melaka','Negeri Sembilan','Pahang','Perak','Perlis','Pulau Pinang','Selangor','Terengganu','Sabah','Sarawak','Kuala Lumpur/ Putrajaya',]\n"
   ]
  },
  {
   "cell_type": "code",
   "execution_count": null,
   "id": "b385e6ef",
   "metadata": {},
   "outputs": [],
   "source": [
    "#Function to assign room type\n",
    "#Function with TRY and EXCEPT block to handle the error\n",
    "def FunRoomType(row):\n",
    "    try:\n",
    "        if row['room_type_reserved'] == 'Room_Type 1':\n",
    "            val = 'Standard Suite Room'\n",
    "        elif row['room_type_reserved'] == 'Room_Type 2':\n",
    "            val = 'Deluxe Suite Room'\n",
    "        elif row['room_type_reserved'] == 'Room_Type 3':\n",
    "            val = 'Super Deluxe'  \n",
    "        elif row['room_type_reserved'] == 'Room_Type 4':\n",
    "            val = 'Junior Suite'\n",
    "        elif row['room_type_reserved'] == 'Room_Type 5':\n",
    "            val = 'Suite'\n",
    "        elif row['room_type_reserved'] == 'Room_Type 6':\n",
    "            val = 'Executive Suite'\n",
    "        elif row['room_type_reserved'] == 'Room_Type 7':\n",
    "            val = 'Presidential Suite'\n",
    "    except RoomTypeError:\n",
    "            val = 'NA'\n",
    "    return val\n",
    "\n",
    "df['RoomType']= df.apply(FunRoomType, axis=1)"
   ]
  },
  {
   "cell_type": "code",
   "execution_count": null,
   "id": "7643adf9",
   "metadata": {},
   "outputs": [],
   "source": [
    "#Function to assign Q1, Q2, Q3, Q4 for reporting purpose\n",
    "def FunQuarter(row):\n",
    "    if row['arrival_month'] <= 3:\n",
    "        val = 1\n",
    "    elif row['arrival_month'] <= 6:\n",
    "        val = 2\n",
    "    elif row['arrival_month'] <= 9:\n",
    "        val = 3\n",
    "    elif row['arrival_month'] <= 12:\n",
    "        val = 4\n",
    "    else:\n",
    "        val = 0\n",
    "    return val\n",
    "\n",
    "df['Quarter']= df.apply(FunQuarter, axis=1)"
   ]
  },
  {
   "cell_type": "code",
   "execution_count": null,
   "id": "71f89abf",
   "metadata": {},
   "outputs": [],
   "source": [
    "#Create derived column \n",
    "df['Cost']= df['avg_price_per_room']*df['TotalDays']"
   ]
  },
  {
   "cell_type": "code",
   "execution_count": null,
   "id": "78e3264f",
   "metadata": {},
   "outputs": [],
   "source": [
    "df.head(3)"
   ]
  },
  {
   "cell_type": "code",
   "execution_count": null,
   "id": "0b197575",
   "metadata": {},
   "outputs": [],
   "source": [
    "#Data cleanup\n",
    "#Drop raw data field as already created more derived field \n",
    "\n",
    "df.drop(columns=['arrival_month','arrival_date','room_type_reserved','lead_time','avg_price_per_room'], axis=1)"
   ]
  },
  {
   "cell_type": "code",
   "execution_count": null,
   "id": "5ca04aee",
   "metadata": {},
   "outputs": [],
   "source": [
    "#Create Branch Sales report & save it to Excel file\n",
    "\n",
    "file_name = 'BranchSalesReport.xlsx'\n",
    "BranchReport = pd.DataFrame(df.groupby(['arrival_year','Quarter','Branch'])[\"Branch\"].count())\n",
    "BranchReport['Percentage']= (BranchReport[\"Branch\"]/len(df))*100\n",
    "BranchReport.to_excel(file_name, engine='xlsxwriter')"
   ]
  },
  {
   "cell_type": "code",
   "execution_count": null,
   "id": "920fc49e",
   "metadata": {},
   "outputs": [],
   "source": [
    "#Data visualization - Graph on Market Segment\n",
    "\n",
    "MarketType = pd.DataFrame(df.groupby(\"market_segment_type\")[\"market_segment_type\"].count())\n",
    "MarketType['market_segment_type'].plot(kind ='bar',stacked=True, figsize=(10,4), xlabel='Market Type',color=('green'))\n",
    "plt.ylabel('Booking')\n",
    "plt.xlabel('Market Segment')\n",
    "plt.title('Market Segment Type')\n",
    "plt.show()"
   ]
  },
  {
   "cell_type": "code",
   "execution_count": null,
   "id": "e038966b",
   "metadata": {},
   "outputs": [],
   "source": [
    "#Data visualization - Graph on Quarter vs Arrival Year\n",
    "\n",
    "df.groupby(['Quarter', 'arrival_year']).size().unstack().plot(kind='barh',stacked=True, figsize=(10,4))\n",
    "plt.ylabel('Quarter')\n",
    "plt.xlabel('No of Bookings')\n",
    "plt.title('Booking - Quarter vs Arrival Year')\n",
    "plt.show()"
   ]
  },
  {
   "cell_type": "code",
   "execution_count": null,
   "id": "73ebc49f",
   "metadata": {},
   "outputs": [],
   "source": [
    "#Data visualization - Graph on Total days booked vs Booking Status\n",
    "\n",
    "df.groupby(['TotalDays','booking_status']).size().unstack().plot(kind='line',stacked=True, figsize=(10,4),color=('red','green'))\n",
    "plt.ylabel('Booking')\n",
    "plt.xlabel('Total Days')\n",
    "plt.title('Booking Status')\n",
    "plt.show()"
   ]
  },
  {
   "cell_type": "code",
   "execution_count": null,
   "id": "92a1f0fe",
   "metadata": {},
   "outputs": [],
   "source": [
    "#Data visualization - Graph on Branch & Year - Bookings \n",
    "\n",
    "df.groupby(['Branch', 'arrival_year']).size().unstack().plot(kind='bar', figsize=(15,6))\n",
    "plt.ylabel('No of Room')\n",
    "plt.xlabel('Room Types')\n",
    "plt.title('No of Room vs Room Type')\n",
    "plt.show()"
   ]
  },
  {
   "cell_type": "code",
   "execution_count": null,
   "id": "29307eb0",
   "metadata": {},
   "outputs": [],
   "source": [
    "#Data visualization - Graph on booking per days\n",
    "\n",
    "\n",
    "Arrival = pd.DataFrame(df.groupby(\"ArrivalDate\")[\"ArrivalDate\"].count())\n",
    "Arrival['ArrivalDate'].plot(kind ='line', figsize=(10,4), xlabel='ArrivalDate', color='red')\n",
    "plt.ylabel('No of Booking')\n",
    "plt.xlabel('Month')\n",
    "plt.title('Bookings')\n",
    "plt.show()"
   ]
  },
  {
   "cell_type": "code",
   "execution_count": null,
   "id": "d1e5d540",
   "metadata": {},
   "outputs": [],
   "source": [
    "#Data visualization - Convert meal plan data to percentage\n",
    "\n",
    "MealPlan = pd.DataFrame(df.groupby(\"type_of_meal_plan\")[\"type_of_meal_plan\"].count())\n",
    "MealPlan['Percentage']= (MealPlan[\"type_of_meal_plan\"]/len(df))*100"
   ]
  },
  {
   "cell_type": "code",
   "execution_count": null,
   "id": "db521335",
   "metadata": {},
   "outputs": [],
   "source": [
    "#Data visualization - print meal plan \n",
    "\n",
    "MealPlan"
   ]
  },
  {
   "cell_type": "code",
   "execution_count": null,
   "id": "157e08ed",
   "metadata": {},
   "outputs": [],
   "source": [
    "#Data visualization - Graph on Meal Plan percentage\n",
    "\n",
    "MealPlan['Percentage'].plot(kind ='bar',figsize=(10,4),color=\"Blue\")\n",
    "plt.ylabel('Order Percentage')\n",
    "plt.xlabel('Type of Meal')\n",
    "plt.title('Meal Type')\n",
    "plt.show()"
   ]
  },
  {
   "cell_type": "code",
   "execution_count": null,
   "id": "f6f0e483",
   "metadata": {},
   "outputs": [],
   "source": [
    "#Create a dataframe from selected field \n",
    "\n",
    "FrontDesk = (df[df['booking_status']== 'Not_Canceled'][['BookingDate','ArrivalDate','DepartureDate','Branch','TotalDays','type_of_meal_plan','Cost']])"
   ]
  },
  {
   "cell_type": "code",
   "execution_count": null,
   "id": "f596a4a8",
   "metadata": {},
   "outputs": [],
   "source": [
    "#Create excel file & file name from user input \n",
    "\n",
    "import os\n",
    "\n",
    "Excel_Ext = {\".xlsx\"}\n",
    "extension = None\n",
    "while extension not in Excel_Ext:  \n",
    "    filename = input(\"Enter Excel file name you like to save: \").lower()\n",
    "    extension = os.path.splitext(filename)[1]\n",
    "FrontDesk.to_excel(filename, engine='xlsxwriter')\n",
    "print('Saved successfull!!')"
   ]
  },
  {
   "cell_type": "code",
   "execution_count": null,
   "id": "70d28155",
   "metadata": {},
   "outputs": [],
   "source": []
  }
 ],
 "metadata": {
  "kernelspec": {
   "display_name": "Python 3 (ipykernel)",
   "language": "python",
   "name": "python3"
  },
  "language_info": {
   "codemirror_mode": {
    "name": "ipython",
    "version": 3
   },
   "file_extension": ".py",
   "mimetype": "text/x-python",
   "name": "python",
   "nbconvert_exporter": "python",
   "pygments_lexer": "ipython3",
   "version": "3.9.12"
  }
 },
 "nbformat": 4,
 "nbformat_minor": 5
}
